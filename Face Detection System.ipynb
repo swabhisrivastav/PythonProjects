{
 "cells": [
  {
   "cell_type": "markdown",
   "id": "ab7ef41e",
   "metadata": {},
   "source": [
    "Face detection system : Face detection is a process of identifying human faces in images or videos."
   ]
  },
  {
   "cell_type": "code",
   "execution_count": null,
   "id": "5ad86fe0",
   "metadata": {},
   "outputs": [],
   "source": [
    "import cv2\n",
    "import numpy as np\n",
    "import face_recognition as fr\n",
    "\n",
    "video_capture = cv2.VideoCapture(0)\n",
    "\n",
    "image = fr.load_image_file('yourpicture.jpg')\n",
    "image_face_encoding = fr.face_encodings(image)[0]\n",
    "\n",
    "known_face_encodings = [image_face_encoding]\n",
    "known_face_names = [\"name\"]\n",
    "\n",
    "while True:\n",
    "    \n",
    "    ret,frame= video_capture.read()\n",
    "    \n",
    "    rgb_frame = frame[:,:,::-1]\n",
    "    \n",
    "    fc_locations = fr.face_locations(rgb_frame)\n",
    "    fc_encodings = fr.face_encodings(rgb_frame,fc_locations)\n",
    "    \n",
    "    for(top,right,bottom,left), face_encoding in zip(fc_locations , fc_encodings):\n",
    "        matches = fr.compare_faces(known_face_encodings, face_encoding)\n",
    "        \n",
    "        name = \"unknown\"\n",
    "        \n",
    "        fc_distances = fr.face_distance(known_face_encodings,face_encoding)\n",
    "        \n",
    "        match_index = np.argmin(fc_distances)\n",
    "        \n",
    "        if matches[match_index]:\n",
    "            name = known_face_names[match_index]\n",
    "        \n",
    "        cv2.rectangle(frame,(left,top),(right,bottom),(0,0,255),2)\n",
    "        \n",
    "        cv2.rectangle(frame , (left,bottom - 35),(right,bottom),(0 ,0,255),cv2.FILLED)\n",
    "        \n",
    "        font = cv2.FONT_HERSHEY_SIMPLEX\n",
    "        \n",
    "        \n",
    "        cv2.putText(frame,name,(left +6,bottom -6),font,1.0,(255,255,255),1)\n",
    "        \n",
    "    cv2.imshow('face detection system',frame)\n",
    "    \n",
    "    if cv2.waitKey(1) & 0xFF == ord('q'):\n",
    "        break\n",
    "        \n",
    "video_capture.release()\n",
    "cv2.destroyAllWindows()"
   ]
  },
  {
   "cell_type": "code",
   "execution_count": null,
   "id": "7f9b3ff3",
   "metadata": {},
   "outputs": [],
   "source": []
  }
 ],
 "metadata": {
  "kernelspec": {
   "display_name": "Python 3 (ipykernel)",
   "language": "python",
   "name": "python3"
  },
  "language_info": {
   "codemirror_mode": {
    "name": "ipython",
    "version": 3
   },
   "file_extension": ".py",
   "mimetype": "text/x-python",
   "name": "python",
   "nbconvert_exporter": "python",
   "pygments_lexer": "ipython3",
   "version": "3.9.13"
  }
 },
 "nbformat": 4,
 "nbformat_minor": 5
}
